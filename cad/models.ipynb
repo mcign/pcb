{
 "cells": [
  {
   "cell_type": "code",
   "execution_count": 1,
   "metadata": {},
   "outputs": [],
   "source": [
    "from solid import *\n",
    "from solid.utils import *\n",
    "import viewscad\n",
    "from save_stl import save\n",
    "\n",
    "i = 25.4\n",
    "slices = 10\n",
    "\n",
    "# makes a feature symmetric around (0,0)\n",
    "def symmetry(feature, n=4):\n",
    "    angles = [i*360/n for i in range(n)]\n",
    "    return [rotate(i)(feature) for i in angles]\n",
    "\n",
    "def key():\n",
    "    return back(0.275/2*i)(left(0.194/2*i)(\n",
    "        cube([0.194*i,0.275*i,0.275*i]) + forward((0.275-0.115)/2*i)(cube([0.25*i,0.115*i,0.275*i]))\n",
    "    ))\n",
    "\n",
    "def detent_wheel():\n",
    "    wheel = up(0.135/2*i)(cylinder(r=0.65*i,h=.135/2*i)) + up(0.135*i)(key())\n",
    "    cutout = forward(0.1*i)(right(0.1*i)(cube([1*i,1*i,1*i])))\n",
    "    bump = forward(0.5*i)(up(0.135/2*i)(sphere(r=0.1*i, segments=slices) - up(0.55*i)(cube([i,i,i], center=True))))\n",
    "    center_rod = down(2.5)(cylinder(d=0.1*i,h=0.25*i))\n",
    "    return wheel - symmetry(cutout) + symmetry(bump) + center_rod\n",
    "\n",
    "r=viewscad.Renderer()"
   ]
  },
  {
   "cell_type": "markdown",
   "metadata": {},
   "source": []
  },
  {
   "cell_type": "code",
   "execution_count": 2,
   "metadata": {},
   "outputs": [
    {
     "data": {
      "application/vnd.jupyter.widget-view+json": {
       "model_id": "d30df38b9da7485688fa8a5b7a9e4ca3",
       "version_major": 2,
       "version_minor": 0
      },
      "text/plain": [
       "VBox(children=(HTML(value=''), Renderer(background='#cccc88', background_opacity=0.0, camera=PerspectiveCamera…"
      ]
     },
     "metadata": {},
     "output_type": "display_data"
    }
   ],
   "source": [
    "# BGM111 PROGRAMMER:\n",
    "\n",
    "pin_locations = {\n",
    "    'swo1':[6.223,15.494],\n",
    "    'swo':[8.382,13.335],\n",
    "    'vdd':[6.35,9.398],\n",
    "    'reset':[7.62,25.527],\n",
    "    'gnd':[28.194,13.462]\n",
    "}\n",
    "\n",
    "def led_negative(mult=1.2):\n",
    "    wire_tube = down(10)(rotate([90,0,0])(cylinder(d=5*mult,h=10)))\n",
    "    return down(1.25)(cylinder(h=1.25,d=6.5*mult) + up(1.25)(cylinder(h=5,d=5.25*mult)) + up(6.25)(cylinder(h=15,d1=5.25*mult,d2=15*mult)) + down(10)(cylinder(h=10,d=5.25*mult))) + wire_tube\n",
    "\n",
    "def pogo_pins(h=10):\n",
    "    return union()([translate(pos+[0])(cylinder(h=h,d=1.2,segments=60)) for key,pos in pin_locations.items()])\n",
    "\n",
    "def alignment_pins(h=10,mult=1):\n",
    "    return union()([translate(pos+[0])(cylinder(h=h,d=2.5*mult)) for pos in [[2.5,2.5],[4,35],[30,35]]])\n",
    "\n",
    "def pcb(h=10):\n",
    "    outline = import_dxf(\"bt_board.dxf\")\n",
    "    return translate([2,2,0])(linear_extrude(height=h)(offset(r=0.25)(outline)))\n",
    "\n",
    "def shell(h=14,bottom_thickness=1):\n",
    "    return part()(cube([34,45,h]) - up(bottom_thickness)(hole()(pcb(h-bottom_thickness))))\n",
    "\n",
    "def bottom():\n",
    "    h=14\n",
    "    bottom_thickness = h-12.5\n",
    "    supports = [translate(pos+[0])(cylinder(h=15,d=5)) for pos in [[5,5],[20,20],[20,10]]]\n",
    "    led = translate([10,40,h])(led_negative())\n",
    "    return shell(h,bottom_thickness) + alignment_pins(h+2) - hole()(up(0.5)(pogo_pins(h))) - led\n",
    "\n",
    "def top():\n",
    "    h=6\n",
    "    led = translate([10,40,0])(led_negative())\n",
    "    return shell(h=h) - alignment_pins(mult=1.2) - pogo_pins() - translate([0,33,2])(cube([40,40,10])) - led\n",
    "    \n",
    "def holder():\n",
    "    return top() + right(40)(bottom())\n",
    "\n",
    "#r=viewscad.Renderer()\n",
    "r.render(holder())\n",
    "save(holder(), \"pcb_holder.stl\")"
   ]
  },
  {
   "cell_type": "code",
   "execution_count": 3,
   "metadata": {
    "scrolled": false
   },
   "outputs": [],
   "source": [
    "#STEERING LOCK MECHANISM\n",
    "\n",
    "def n20_flip():\n",
    "    return cube([9,10,24]) + cube([19.2,10,12]) + translate([9,5,18])(rotate([0,90,0])(cylinder(d=3,h=20)))\n",
    "\n",
    "def profile():\n",
    "    points = [[j*24.5 for j in i] for i in [[0.182,0],[.182,0.19],[0,0.3],[0,0.6],[.05,.6],[.05,.725],[0,.725],[0,1.05],[0.335,1.475],[1.435,1.475],[1.76,1.15],[1.76,.9],[1.435,.9],[1.435,.775],[1.385,.775],[1.385,.575],[1.435,.575],[1.435,.3],[1.2935,.19],[1.2935,0]]]\n",
    "    return polygon(points)\n",
    "\n",
    "def carrier():\n",
    "    return cube([33,25,11])\n",
    "\n",
    "#r.render(linear_extrude(5)(profile()))\n",
    "#save(linear_extrude(5)(profile()), \"throttle_lock_carrier.stl\")"
   ]
  },
  {
   "cell_type": "code",
   "execution_count": null,
   "metadata": {},
   "outputs": [],
   "source": []
  }
 ],
 "metadata": {
  "kernelspec": {
   "display_name": "Python 3",
   "language": "python",
   "name": "python3"
  },
  "language_info": {
   "codemirror_mode": {
    "name": "ipython",
    "version": 3
   },
   "file_extension": ".py",
   "mimetype": "text/x-python",
   "name": "python",
   "nbconvert_exporter": "python",
   "pygments_lexer": "ipython3",
   "version": "3.7.3"
  }
 },
 "nbformat": 4,
 "nbformat_minor": 2
}
